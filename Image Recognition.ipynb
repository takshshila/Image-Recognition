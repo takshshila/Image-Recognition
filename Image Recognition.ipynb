{
 "cells": [
  {
   "cell_type": "code",
   "execution_count": 39,
   "metadata": {},
   "outputs": [],
   "source": [
    "import tensorflow as tf\n",
    "import matplotlib.pyplot as plt"
   ]
  },
  {
   "cell_type": "code",
   "execution_count": 40,
   "metadata": {},
   "outputs": [
    {
     "data": {
      "text/plain": [
       "'2.2.0'"
      ]
     },
     "execution_count": 40,
     "metadata": {},
     "output_type": "execute_result"
    }
   ],
   "source": [
    "tf.__version__"
   ]
  },
  {
   "cell_type": "code",
   "execution_count": 44,
   "metadata": {},
   "outputs": [],
   "source": [
    "#import tensorflow_datasets as tfds\n",
    "from tensorflow.keras import datasets, layers, models, utils, Sequential, preprocessing"
   ]
  },
  {
   "cell_type": "code",
   "execution_count": 28,
   "metadata": {},
   "outputs": [],
   "source": [
    "(x_train, y_train), (x_test, y_test)=datasets.cifar10.load_data()"
   ]
  },
  {
   "cell_type": "code",
   "execution_count": 6,
   "metadata": {},
   "outputs": [
    {
     "name": "stdout",
     "output_type": "stream",
     "text": [
      "(50000, 32, 32, 3)\n",
      "(50000, 1)\n",
      "(10000, 32, 32, 3)\n",
      "(10000, 1)\n"
     ]
    }
   ],
   "source": [
    "print(x_train.shape)\n",
    "print(y_train.shape)\n",
    "print(x_test.shape)\n",
    "print(y_test.shape)\n"
   ]
  },
  {
   "cell_type": "code",
   "execution_count": 29,
   "metadata": {},
   "outputs": [],
   "source": [
    "cifar10_class_names = {\n",
    "    0: \"Plane\",\n",
    "    1: \"Car\",\n",
    "    2: \"Bird\",\n",
    "    3: \"Cat\",\n",
    "    4: \"Deer\",\n",
    "    5: \"Dog\",\n",
    "    6: \"Frog\",\n",
    "    7: \"Horse\",\n",
    "    8: \"Boat\",\n",
    "    9: \"Truck\"\n",
    "}"
   ]
  },
  {
   "cell_type": "code",
   "execution_count": 30,
   "metadata": {},
   "outputs": [
    {
     "data": {
      "image/png": "[encoded data removed]",
      "text/plain": [
       "<Figure size 432x288 with 1 Axes>"
      ]
     },
     "metadata": {
      "needs_background": "light"
     },
     "output_type": "display_data"
    },
    {
     "data": {
      "image/png": "[encoded data removed]",
      "text/plain": [
       "<Figure size 432x288 with 1 Axes>"
      ]
     },
     "metadata": {
      "needs_background": "light"
     },
     "output_type": "display_data"
    },
    {
     "data": {
      "image/png": "[encoded data removed]",
      "text/plain": [
       "<Figure size 432x288 with 1 Axes>"
      ]
     },
     "metadata": {
      "needs_background": "light"
     },
     "output_type": "display_data"
    }
   ],
   "source": [
    "for i in range(3):\n",
    "    # Grab an image from the data set\n",
    "    sample_image = x_train[i]\n",
    "    # Grab the image's expected class id\n",
    "    image_class_number = y_train[i][0]\n",
    "    # Look up the class name from the class id\n",
    "    image_class_name = cifar10_class_names[image_class_number]\n",
    "\n",
    "    # Draw the image as a plot\n",
    "    plt.imshow(sample_image)\n",
    "    # Label the image\n",
    "    plt.title(image_class_name)\n",
    "    # Show the plot on the screen\n",
    "    plt.show()"
   ]
  },
  {
   "cell_type": "code",
   "execution_count": 10,
   "metadata": {},
   "outputs": [],
   "source": [
    "x_train =x_train.astype(\"float32\")\n",
    "x_test =x_test.astype(\"float32\")\n",
    "x_train =x_train/255\n",
    "x_test =x_test/255\n",
    "y_train =utils.to_categorical(y_train,10)\n",
    "y_test =utils.to_categorical(y_test,10)\n"
   ]
  },
  {
   "cell_type": "code",
   "execution_count": 11,
   "metadata": {},
   "outputs": [
    {
     "name": "stdout",
     "output_type": "stream",
     "text": [
      "Model: \"sequential\"\n",
      "_________________________________________________________________\n",
      "Layer (type)                 Output Shape              Param #   \n",
      "=================================================================\n",
      "conv2d (Conv2D)              (None, 32, 32, 32)        896       \n",
      "_________________________________________________________________\n",
      "conv2d_1 (Conv2D)            (None, 30, 30, 32)        9248      \n",
      "_________________________________________________________________\n",
      "max_pooling2d (MaxPooling2D) (None, 15, 15, 32)        0         \n",
      "_________________________________________________________________\n",
      "dropout (Dropout)            (None, 15, 15, 32)        0         \n",
      "_________________________________________________________________\n",
      "conv2d_2 (Conv2D)            (None, 15, 15, 64)        18496     \n",
      "_________________________________________________________________\n",
      "conv2d_3 (Conv2D)            (None, 13, 13, 64)        36928     \n",
      "_________________________________________________________________\n",
      "max_pooling2d_1 (MaxPooling2 (None, 6, 6, 64)          0         \n",
      "_________________________________________________________________\n",
      "dropout_1 (Dropout)          (None, 6, 6, 64)          0         \n",
      "_________________________________________________________________\n",
      "flatten (Flatten)            (None, 2304)              0         \n",
      "_________________________________________________________________\n",
      "dense (Dense)                (None, 512)               1180160   \n",
      "_________________________________________________________________\n",
      "dropout_2 (Dropout)          (None, 512)               0         \n",
      "_________________________________________________________________\n",
      "dense_1 (Dense)              (None, 10)                5130      \n",
      "=================================================================\n",
      "Total params: 1,250,858\n",
      "Trainable params: 1,250,858\n",
      "Non-trainable params: 0\n",
      "_________________________________________________________________\n"
     ]
    }
   ],
   "source": [
    "# Create a model and add layers\n",
    "model =Sequential()\n",
    "\n",
    "# adding convolutional layers\n",
    "model.add(layers.Conv2D(32,(3,3),padding=\"same\",activation=\"relu\",input_shape=(32, 32, 3)))\n",
    "model.add(layers.Conv2D(32,(3,3), activation=\"relu\"))\n",
    "\n",
    "# adding max pool after set of convolution layers\n",
    "model.add(layers.MaxPooling2D(pool_size=(2,2)))\n",
    "\n",
    "# Dropout for reducing overfitting\n",
    "model.add(layers.Dropout(0.25))\n",
    "\n",
    "model.add(layers.Conv2D(64, (3,3),padding=\"same\", activation=\"relu\"))\n",
    "model.add(layers.Conv2D(64, (3,3),activation=\"relu\"))\n",
    "model.add(layers.MaxPooling2D(pool_size=(2,2)))\n",
    "\n",
    "model.add(layers.Dropout(0.25))\n",
    "\n",
    "#add flatten layer\n",
    "model.add(layers.Flatten())\n",
    "\n",
    "#Dense layer for actual neural network classification\n",
    "model.add(layers.Dense(512,activation=\"relu\",input_shape=(32,32,3)))\n",
    "\n",
    "\n",
    "model.add(layers.Dropout(0.25))\n",
    "model.add(layers.Dense(10, activation=\"softmax\"))\n",
    "model.summary()\n"
   ]
  },
  {
   "cell_type": "code",
   "execution_count": 12,
   "metadata": {},
   "outputs": [],
   "source": [
    "# Compile the model\n",
    "model.compile(loss=\"categorical_crossentropy\",\n",
    "              optimizer=\"adam\",\n",
    "              metrics=[\"accuracy\"])"
   ]
  },
  {
   "cell_type": "code",
   "execution_count": 13,
   "metadata": {},
   "outputs": [
    {
     "name": "stdout",
     "output_type": "stream",
     "text": [
      "(50000, 32, 32, 3)\n",
      "(50000, 10)\n",
      "(10000, 32, 32, 3)\n",
      "(10000, 10)\n"
     ]
    }
   ],
   "source": [
    "print(x_train.shape)\n",
    "print(y_train.shape)\n",
    "print(x_test.shape)\n",
    "print(y_test.shape)"
   ]
  },
  {
   "cell_type": "code",
   "execution_count": 15,
   "metadata": {},
   "outputs": [
    {
     "name": "stdout",
     "output_type": "stream",
     "text": [
      "Epoch 1/30\n",
      "1563/1563 [==============================] - 102s 65ms/step - loss: 1.3062 - accuracy: 0.5281 - val_loss: 1.0838 - val_accuracy: 0.6160\n",
      "Epoch 2/30\n",
      "1563/1563 [==============================] - 106s 68ms/step - loss: 1.0250 - accuracy: 0.6357 - val_loss: 0.9055 - val_accuracy: 0.6776\n",
      "Epoch 3/30\n",
      "1563/1563 [==============================] - 109s 70ms/step - loss: 0.8843 - accuracy: 0.6877 - val_loss: 0.8291 - val_accuracy: 0.7066\n",
      "Epoch 4/30\n",
      "1563/1563 [==============================] - 121s 77ms/step - loss: 0.7893 - accuracy: 0.7228 - val_loss: 0.7728 - val_accuracy: 0.7320\n",
      "Epoch 5/30\n",
      "1563/1563 [==============================] - 129s 82ms/step - loss: 0.7261 - accuracy: 0.7460 - val_loss: 0.7786 - val_accuracy: 0.7345\n",
      "Epoch 6/30\n",
      "1563/1563 [==============================] - 125s 80ms/step - loss: 0.6739 - accuracy: 0.7641 - val_loss: 0.7137 - val_accuracy: 0.7555\n",
      "Epoch 7/30\n",
      "1563/1563 [==============================] - 133s 85ms/step - loss: 0.6316 - accuracy: 0.7767 - val_loss: 0.6898 - val_accuracy: 0.7648\n",
      "Epoch 8/30\n",
      "1563/1563 [==============================] - 116s 75ms/step - loss: 0.5914 - accuracy: 0.7902 - val_loss: 0.6832 - val_accuracy: 0.7674\n",
      "Epoch 9/30\n",
      "1563/1563 [==============================] - 130s 83ms/step - loss: 0.5652 - accuracy: 0.7991 - val_loss: 0.6967 - val_accuracy: 0.7650\n",
      "Epoch 10/30\n",
      "1563/1563 [==============================] - 136s 87ms/step - loss: 0.5250 - accuracy: 0.8150 - val_loss: 0.6941 - val_accuracy: 0.7678\n",
      "Epoch 11/30\n",
      "1563/1563 [==============================] - 130s 83ms/step - loss: 0.5071 - accuracy: 0.8205 - val_loss: 0.6950 - val_accuracy: 0.7720\n",
      "Epoch 12/30\n",
      "1563/1563 [==============================] - 139s 89ms/step - loss: 0.4831 - accuracy: 0.8303 - val_loss: 0.6509 - val_accuracy: 0.7832\n",
      "Epoch 13/30\n",
      "1563/1563 [==============================] - 130s 83ms/step - loss: 0.4525 - accuracy: 0.8402 - val_loss: 0.6906 - val_accuracy: 0.7752\n",
      "Epoch 14/30\n",
      "1563/1563 [==============================] - 138s 88ms/step - loss: 0.4418 - accuracy: 0.8451 - val_loss: 0.6941 - val_accuracy: 0.7762\n",
      "Epoch 15/30\n",
      "1563/1563 [==============================] - 136s 87ms/step - loss: 0.4201 - accuracy: 0.8509 - val_loss: 0.7000 - val_accuracy: 0.7765\n",
      "Epoch 16/30\n",
      "1563/1563 [==============================] - 453s 290ms/step - loss: 0.4068 - accuracy: 0.8556 - val_loss: 0.7097 - val_accuracy: 0.7745\n",
      "Epoch 17/30\n",
      "1563/1563 [==============================] - 120s 77ms/step - loss: 0.3936 - accuracy: 0.8619 - val_loss: 0.7433 - val_accuracy: 0.7708\n",
      "Epoch 18/30\n",
      "1563/1563 [==============================] - 118s 75ms/step - loss: 0.3776 - accuracy: 0.8656 - val_loss: 0.7010 - val_accuracy: 0.7766\n",
      "Epoch 19/30\n",
      "1563/1563 [==============================] - 124s 79ms/step - loss: 0.3654 - accuracy: 0.8719 - val_loss: 0.7143 - val_accuracy: 0.7761\n",
      "Epoch 20/30\n",
      "1563/1563 [==============================] - 135s 86ms/step - loss: 0.3649 - accuracy: 0.8719 - val_loss: 0.7356 - val_accuracy: 0.7759\n",
      "Epoch 21/30\n",
      "1563/1563 [==============================] - 139s 89ms/step - loss: 0.3533 - accuracy: 0.8752 - val_loss: 0.7182 - val_accuracy: 0.7749\n",
      "Epoch 22/30\n",
      "1563/1563 [==============================] - 143s 92ms/step - loss: 0.3445 - accuracy: 0.8789 - val_loss: 0.7400 - val_accuracy: 0.7775\n",
      "Epoch 23/30\n",
      "1563/1563 [==============================] - 147s 94ms/step - loss: 0.3331 - accuracy: 0.8833 - val_loss: 0.7379 - val_accuracy: 0.7791\n",
      "Epoch 24/30\n",
      "1563/1563 [==============================] - 2041s 1s/step - loss: 0.3301 - accuracy: 0.8854 - val_loss: 0.7594 - val_accuracy: 0.7765\n",
      "Epoch 25/30\n",
      "1563/1563 [==============================] - 116s 74ms/step - loss: 0.3206 - accuracy: 0.8895 - val_loss: 0.7625 - val_accuracy: 0.7746\n",
      "Epoch 26/30\n",
      "1563/1563 [==============================] - 120s 77ms/step - loss: 0.3107 - accuracy: 0.8922 - val_loss: 0.7815 - val_accuracy: 0.7668\n",
      "Epoch 27/30\n",
      "1563/1563 [==============================] - 116s 74ms/step - loss: 0.3108 - accuracy: 0.8923 - val_loss: 0.7815 - val_accuracy: 0.7741\n",
      "Epoch 28/30\n",
      "1563/1563 [==============================] - 129s 82ms/step - loss: 0.3034 - accuracy: 0.8943 - val_loss: 0.7988 - val_accuracy: 0.7738\n",
      "Epoch 29/30\n",
      "1563/1563 [==============================] - 132s 84ms/step - loss: 0.2972 - accuracy: 0.8963 - val_loss: 0.8006 - val_accuracy: 0.7752\n",
      "Epoch 30/30\n",
      "1563/1563 [==============================] - 135s 87ms/step - loss: 0.2925 - accuracy: 0.8991 - val_loss: 0.8195 - val_accuracy: 0.7832\n"
     ]
    }
   ],
   "source": [
    "# Train the model\n",
    "num_epoch=30\n",
    "batch_size=32\n",
    "suffle_data=True\n",
    "history=model.fit(x_train, y_train, batch_size=batch_size,epochs=num_epoch,validation_data=(x_test, y_test), shuffle=suffle_data)"
   ]
  },
  {
   "cell_type": "code",
   "execution_count": null,
   "metadata": {},
   "outputs": [],
   "source": []
  },
  {
   "cell_type": "code",
   "execution_count": null,
   "metadata": {},
   "outputs": [],
   "source": []
  },
  {
   "cell_type": "code",
   "execution_count": 16,
   "metadata": {},
   "outputs": [
    {
     "data": {
      "image/png": "[encoded data removed]",
      "text/plain": [
       "<Figure size 432x288 with 1 Axes>"
      ]
     },
     "metadata": {
      "needs_background": "light"
     },
     "output_type": "display_data"
    },
    {
     "data": {
      "image/png": "[encoded data removed]",
      "text/plain": [
       "<Figure size 432x288 with 1 Axes>"
      ]
     },
     "metadata": {
      "needs_background": "light"
     },
     "output_type": "display_data"
    }
   ],
   "source": [
    "import matplotlib.pyplot as plt\n",
    "\n",
    "def plot_graphs(history, string):\n",
    "  plt.plot(history.history[string])\n",
    "  plt.plot(history.history[\"val_\"+string])\n",
    "  plt.xlabel(\"Epoch\")\n",
    "  plt.ylabel(string)\n",
    "  plt.legend([string, \"val_\"+string])\n",
    "  plt.show()\n",
    "\n",
    "plot_graphs(history, \"accuracy\")\n",
    "plot_graphs(history,\"loss\")"
   ]
  },
  {
   "cell_type": "code",
   "execution_count": 18,
   "metadata": {},
   "outputs": [
    {
     "data": {
      "text/plain": [
       "4255"
      ]
     },
     "execution_count": 18,
     "metadata": {},
     "output_type": "execute_result"
    }
   ],
   "source": [
    "from pathlib import Path\n",
    "# Save neural network structure\n",
    "model_structure=model.to_json()\n",
    "f=Path(\"model_structure.json\")\n",
    "f.write_text(model_structure)"
   ]
  },
  {
   "cell_type": "code",
   "execution_count": 20,
   "metadata": {},
   "outputs": [
    {
     "name": "stdout",
     "output_type": "stream",
     "text": [
      "WARNING:tensorflow:From /Users/takshshilarawat/opt/anaconda3/lib/python3.7/site-packages/tensorflow/python/ops/resource_variable_ops.py:1817: calling BaseResourceVariable.__init__ (from tensorflow.python.ops.resource_variable_ops) with constraint is deprecated and will be removed in a future version.\n",
      "Instructions for updating:\n",
      "If using Keras pass *_constraint arguments to layers.\n",
      "INFO:tensorflow:Assets written to: ./mode_save/assets\n"
     ]
    }
   ],
   "source": [
    "model.save('./mode_save/')"
   ]
  },
  {
   "cell_type": "code",
   "execution_count": 47,
   "metadata": {},
   "outputs": [],
   "source": [
    "import numpy as np"
   ]
  },
  {
   "cell_type": "code",
   "execution_count": 22,
   "metadata": {},
   "outputs": [],
   "source": [
    "modelLoaded = models.load_model('./mode_save/')"
   ]
  },
  {
   "cell_type": "code",
   "execution_count": 54,
   "metadata": {},
   "outputs": [
    {
     "data": {
      "text/plain": [
       "array([[0., 0., 0., 0., 0., 0., 0., 0., 0., 1.]], dtype=float32)"
      ]
     },
     "execution_count": 54,
     "metadata": {},
     "output_type": "execute_result"
    }
   ],
   "source": [
    "# Load an image file to test, resizing it to 32x32 pixels (as required by this model)\n",
    "img = preprocessing.image.load_img(\"./Test/car.png\", target_size=(32, 32))\n",
    "\n",
    "# Convert the image to a numpy array\n",
    "image_to_test = preprocessing.image.img_to_array(img)\n",
    "\n",
    "# Add a fourth dimension to the image (since Keras expects a list of images, not a single image)\n",
    "list_of_images = np.expand_dims(image_to_test, axis=0)\n",
    "\n",
    "# Make a prediction using the model\n",
    "results = modelLoaded.predict(list_of_images)\n",
    "results"
   ]
  },
  {
   "cell_type": "code",
   "execution_count": 55,
   "metadata": {},
   "outputs": [
    {
     "name": "stdout",
     "output_type": "stream",
     "text": [
      "This is image is a Truck - Likelihood: 1.000000\n"
     ]
    }
   ],
   "source": [
    "# Since we are only testing one image, we only need to check the first result\n",
    "single_result = results[0]\n",
    "\n",
    "# We will get a likelihood score for all 10 possible classes. Find out which class had the highest score.\n",
    "most_likely_class_index = int(np.argmax(single_result))\n",
    "class_likelihood = single_result[most_likely_class_index]\n",
    "\n",
    "# Get the name of the most likely class\n",
    "class_label = cifar10_class_names[most_likely_class_index]\n",
    "\n",
    "# Print the result\n",
    "print(\"This is image is a {} - Likelihood: {:2f}\".format(class_label, class_likelihood))"
   ]
  },
  {
   "cell_type": "markdown",
   "metadata": {},
   "source": [
    "# Working with Pretrained Models"
   ]
  },
  {
   "cell_type": "code",
   "execution_count": 13,
   "metadata": {},
   "outputs": [],
   "source": [
    "import tensorflow as tf\n",
    "from tensorflow.keras.applications import vgg16\n",
    "from tensorflow.keras.preprocessing import image\n",
    "import numpy as np"
   ]
  },
  {
   "cell_type": "code",
   "execution_count": 14,
   "metadata": {},
   "outputs": [
    {
     "name": "stdout",
     "output_type": "stream",
     "text": [
      "Downloading data from https://storage.googleapis.com/download.tensorflow.org/data/imagenet_class_index.json\n",
      "40960/35363 [==================================] - 0s 0us/step\n",
      "Top predictions for this image:\n",
      "Prediction: seashore - 0.395213\n",
      "Prediction: promontory - 0.326129\n",
      "Prediction: lakeside - 0.119613\n",
      "Prediction: breakwater - 0.062801\n",
      "Prediction: sandbar - 0.045267\n",
      "Prediction: cliff - 0.011845\n",
      "Prediction: dock - 0.009196\n",
      "Prediction: boathouse - 0.003278\n",
      "Prediction: valley - 0.003194\n"
     ]
    }
   ],
   "source": [
    "# Load Keras' VGG16 model that was pre-trained against the ImageNet database\n",
    "model = vgg16.VGG16()\n",
    "\n",
    "# Load the image file, resizing it to 224x224 pixels (required by this model)\n",
    "img = image.load_img(\"./Test/bay.jpg\", target_size=(224, 224))\n",
    "\n",
    "# Convert the image to a numpy array\n",
    "x = image.img_to_array(img)\n",
    "\n",
    "# Add a fourth dimension (since Keras expects a list of images)\n",
    "x = np.expand_dims(x, axis=0)\n",
    "\n",
    "# Normalize the input image's pixel values to the range used when training the neural network\n",
    "x =vgg16.preprocess_input(x)\n",
    "\n",
    "# Run the image through the deep neural network to make a prediction\n",
    "predictions =model.predict(x)\n",
    "\n",
    "# Look up the names of the predicted classes. Index zero is the results for the first image.\n",
    "predicted_classes =vgg16.decode_predictions(predictions, top=9)\n",
    "\n",
    "print(\"Top predictions for this image:\")\n",
    "\n",
    "for imagenet_id, name, likelihood in predicted_classes[0]:\n",
    "    print(\"Prediction: {} - {:2f}\".format(name, likelihood))\n",
    "\n",
    "\n"
   ]
  },
  {
   "cell_type": "markdown",
   "metadata": {},
   "source": [
    "# Transfer Learning: Feature Extraction"
   ]
  },
  {
   "cell_type": "code",
   "execution_count": 19,
   "metadata": {},
   "outputs": [],
   "source": [
    "import tensorflow as tf\n",
    "from pathlib import Path\n",
    "import numpy as np\n",
    "import joblib\n",
    "from tensorflow.keras.preprocessing import image\n",
    "from tensorflow.keras.applications import vgg16"
   ]
  },
  {
   "cell_type": "code",
   "execution_count": 20,
   "metadata": {},
   "outputs": [
    {
     "name": "stdout",
     "output_type": "stream",
     "text": [
      "Downloading data from https://storage.googleapis.com/tensorflow/keras-applications/vgg16/vgg16_weights_tf_dim_ordering_tf_kernels_notop.h5\n",
      "58892288/58889256 [==============================] - 41s 1us/step\n"
     ]
    },
    {
     "data": {
      "text/plain": [
       "['y_train.dat']"
      ]
     },
     "execution_count": 20,
     "metadata": {},
     "output_type": "execute_result"
    }
   ],
   "source": [
    "# Path to folders with training data\n",
    "dog_path = Path(\"training_data\") / \"dogs\"\n",
    "not_dog_path = Path(\"training_data\") / \"not_dogs\"\n",
    "\n",
    "images = []\n",
    "labels = []\n",
    "\n",
    "# Load all the not-dog images\n",
    "for img in not_dog_path.glob(\"*.png\"):\n",
    "    # Load the image from disk\n",
    "    img = image.load_img(img)\n",
    "\n",
    "    # Convert the image to a numpy array\n",
    "    image_array = image.img_to_array(img)\n",
    "\n",
    "    # Add the image to the list of images\n",
    "    images.append(image_array)\n",
    "\n",
    "    # For each 'not dog' image, the expected value should be 0\n",
    "    labels.append(0)\n",
    "\n",
    "# Load all the dog images\n",
    "for img in dog_path.glob(\"*.png\"):\n",
    "    # Load the image from disk\n",
    "    img = image.load_img(img)\n",
    "\n",
    "    # Convert the image to a numpy array\n",
    "    image_array = image.img_to_array(img)\n",
    "\n",
    "    # Add the image to the list of images\n",
    "    images.append(image_array)\n",
    "\n",
    "    # For each 'dog' image, the expected value should be 1\n",
    "    labels.append(1)\n",
    "\n",
    "# Create a single numpy array with all the images we loaded\n",
    "x_train =np.array(images)\n",
    "\n",
    "# Also convert the labels to a numpy array\n",
    "y_train =np.array(labels)\n",
    "\n",
    "# Normalize image data to 0-to-1 range\n",
    "x_train = vgg16.preprocess_input(x_train)\n",
    "\n",
    "# Load a pre-trained neural network to use as a feature extractor\n",
    "pretrained_nn =vgg16.VGG16(weights=\"imagenet\", include_top=False, input_shape=(64,64,3))\n",
    "\n",
    "\n",
    "# Extract features for each image (all in one pass)\n",
    "features_x =pretrained_nn.predict(x_train)\n",
    "\n",
    "# Save the array of extracted features to a file\n",
    "joblib.dump(features_x, \"x_train.dat\")\n",
    "\n",
    "# Save the matching array of expected values to a file\n",
    "joblib.dump(y_train, \"y_train.dat\")\n",
    "\n"
   ]
  },
  {
   "cell_type": "markdown",
   "metadata": {},
   "source": [
    "# Transfer Learning: Used Extracted Features"
   ]
  },
  {
   "cell_type": "code",
   "execution_count": 21,
   "metadata": {},
   "outputs": [],
   "source": [
    "from tensorflow.keras.models import Sequential\n",
    "from tensorflow.keras.layers import Dense, Dropout, Flatten"
   ]
  },
  {
   "cell_type": "code",
   "execution_count": 22,
   "metadata": {},
   "outputs": [],
   "source": [
    "# Load data\n",
    "x_train=joblib.load(\"x_train.dat\")\n",
    "y_train=joblib.load( \"y_train.dat\")"
   ]
  },
  {
   "cell_type": "code",
   "execution_count": 29,
   "metadata": {},
   "outputs": [],
   "source": [
    "# Create a model and add layers\n",
    "model=Sequential()\n",
    "model.add(Flatten(input_shape=x_train.shape[1:]))\n",
    "model.add(Dense(256, activation='relu'))\n",
    "model.add(Dropout(0.5))\n",
    "model.add(Dense(1, activation='sigmoid'))\n",
    "\n"
   ]
  },
  {
   "cell_type": "code",
   "execution_count": 30,
   "metadata": {},
   "outputs": [],
   "source": [
    "model.compile(loss=\"binary_crossentropy\", optimizer=\"adam\", metrics=[\"accuracy\"])\n"
   ]
  },
  {
   "cell_type": "code",
   "execution_count": 32,
   "metadata": {},
   "outputs": [
    {
     "name": "stdout",
     "output_type": "stream",
     "text": [
      "Epoch 1/20\n",
      "2/2 [==============================] - 0s 2ms/step - loss: 14.7508 - accuracy: 0.5345\n",
      "Epoch 2/20\n",
      "2/2 [==============================] - 0s 2ms/step - loss: 1.5322 - accuracy: 0.8103\n",
      "Epoch 3/20\n",
      "2/2 [==============================] - 0s 2ms/step - loss: 0.7294 - accuracy: 0.9655\n",
      "Epoch 4/20\n",
      "2/2 [==============================] - 0s 2ms/step - loss: 1.7604e-05 - accuracy: 1.0000\n",
      "Epoch 5/20\n",
      "2/2 [==============================] - 0s 2ms/step - loss: 0.0415 - accuracy: 0.9828\n",
      "Epoch 6/20\n",
      "2/2 [==============================] - 0s 2ms/step - loss: 0.1817 - accuracy: 0.9828\n",
      "Epoch 7/20\n",
      "2/2 [==============================] - 0s 2ms/step - loss: 0.2029 - accuracy: 0.9828\n",
      "Epoch 8/20\n",
      "2/2 [==============================] - 0s 3ms/step - loss: 7.4548e-13 - accuracy: 1.0000\n",
      "Epoch 9/20\n",
      "2/2 [==============================] - 0s 2ms/step - loss: 3.8042e-19 - accuracy: 1.0000\n",
      "Epoch 10/20\n",
      "2/2 [==============================] - 0s 2ms/step - loss: 2.5577e-18 - accuracy: 1.0000\n",
      "Epoch 11/20\n",
      "2/2 [==============================] - 0s 2ms/step - loss: 1.3113e-19 - accuracy: 1.0000\n",
      "Epoch 12/20\n",
      "2/2 [==============================] - 0s 2ms/step - loss: 3.1663e-15 - accuracy: 1.0000\n",
      "Epoch 13/20\n",
      "2/2 [==============================] - 0s 2ms/step - loss: 1.6124e-14 - accuracy: 1.0000\n",
      "Epoch 14/20\n",
      "2/2 [==============================] - 0s 2ms/step - loss: 1.0809e-16 - accuracy: 1.0000\n",
      "Epoch 15/20\n",
      "2/2 [==============================] - 0s 3ms/step - loss: 5.6012e-20 - accuracy: 1.0000\n",
      "Epoch 16/20\n",
      "2/2 [==============================] - 0s 2ms/step - loss: 2.5417e-15 - accuracy: 1.0000\n",
      "Epoch 17/20\n",
      "2/2 [==============================] - 0s 2ms/step - loss: 1.6391e-13 - accuracy: 1.0000\n",
      "Epoch 18/20\n",
      "2/2 [==============================] - 0s 2ms/step - loss: 5.4334e-23 - accuracy: 1.0000\n",
      "Epoch 19/20\n",
      "2/2 [==============================] - 0s 3ms/step - loss: 7.9400e-07 - accuracy: 1.0000\n",
      "Epoch 20/20\n",
      "2/2 [==============================] - 0s 2ms/step - loss: 1.9805e-16 - accuracy: 1.0000\n"
     ]
    }
   ],
   "source": [
    "num_epochs=20\n",
    "history=model.fit(x_train, y_train, epochs=num_epochs,shuffle=True)"
   ]
  },
  {
   "cell_type": "code",
   "execution_count": 35,
   "metadata": {},
   "outputs": [],
   "source": [
    "# Save neural network structure\n",
    "model_structure = model.to_json()\n",
    "f = Path(\"./saved_model/model_structure.json\")\n",
    "f.write_text(model_structure)\n",
    "\n",
    "# Save neural network's trained weights\n",
    "model.save_weights(\"./saved_model/model_weights.h5\")"
   ]
  },
  {
   "cell_type": "markdown",
   "metadata": {},
   "source": [
    "# Transfer Learning: Making Prediction"
   ]
  },
  {
   "cell_type": "code",
   "execution_count": 38,
   "metadata": {},
   "outputs": [],
   "source": [
    "from tensorflow.keras.models import model_from_json\n",
    "from tensorflow.keras.preprocessing import image"
   ]
  },
  {
   "cell_type": "code",
   "execution_count": 45,
   "metadata": {},
   "outputs": [
    {
     "name": "stdout",
     "output_type": "stream",
     "text": [
      "Likelihood that this image contains a dog: 0%\n"
     ]
    }
   ],
   "source": [
    "# Load the json file that contains the model's structure\n",
    "f = Path(\"./saved_model/model_structure.json\")\n",
    "model_structure = f.read_text()\n",
    "\n",
    "# Recreate the Keras model object from the json data\n",
    "model = model_from_json(model_structure)\n",
    "\n",
    "# Re-load the model's trained weights\n",
    "model.load_weights(\"./saved_model/model_weights.h5\")\n",
    "\n",
    "# Load an image file to test, resizing it to 64x64 pixels (as required by this model)\n",
    "img = image.load_img(\"./Test/not_dog.png\", target_size=(64, 64))\n",
    "\n",
    "# Convert the image to a numpy array\n",
    "image_array = image.img_to_array(img)\n",
    "\n",
    "# Add a forth dimension to the image (since Keras expects a bunch of images, not a single image)\n",
    "images = np.expand_dims(image_array, axis=0)\n",
    "\n",
    "# Normalize the data\n",
    "images = vgg16.preprocess_input(images)\n",
    "\n",
    "# Use the pre-trained neural network to extract features from our test image (the same way we did to train the model)\n",
    "feature_extraction_model = vgg16.VGG16(weights=\"imagenet\", include_top=False, input_shape=(64,64,3))\n",
    "features =feature_extraction_model.predict(images)\n",
    "\n",
    "# Given the extracted features, make a final prediction using our own model\n",
    "results =model.predict(features)\n",
    "\n",
    "# Since we are only testing one image with possible class, we only need to check the first result's first element\n",
    "single_result = results[0][0]\n",
    "\n",
    "# Print the result\n",
    "print(\"Likelihood that this image contains a dog: {}%\".format(int(single_result * 100)))"
   ]
  },
  {
   "cell_type": "code",
   "execution_count": null,
   "metadata": {},
   "outputs": [],
   "source": []
  },
  {
   "cell_type": "code",
   "execution_count": null,
   "metadata": {},
   "outputs": [],
   "source": []
  },
  {
   "cell_type": "code",
   "execution_count": null,
   "metadata": {},
   "outputs": [],
   "source": []
  },
  {
   "cell_type": "code",
   "execution_count": null,
   "metadata": {},
   "outputs": [],
   "source": []
  }
 ],
 "metadata": {
  "kernelspec": {
   "display_name": "Python 3",
   "language": "python",
   "name": "python3"
  },
  "language_info": {
   "codemirror_mode": {
    "name": "ipython",
    "version": 3
   },
   "file_extension": ".py",
   "mimetype": "text/x-python",
   "name": "python",
   "nbconvert_exporter": "python",
   "pygments_lexer": "ipython3",
   "version": "3.7.6"
  }
 },
 "nbformat": 4,
 "nbformat_minor": 4
}
